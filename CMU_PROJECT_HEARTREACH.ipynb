{
  "nbformat": 4,
  "nbformat_minor": 0,
  "metadata": {
    "colab": {
      "provenance": []
    },
    "kernelspec": {
      "name": "python3",
      "display_name": "Python 3"
    },
    "language_info": {
      "name": "python"
    }
  },
  "cells": [
    {
      "cell_type": "code",
      "execution_count": null,
      "metadata": {
        "colab": {
          "base_uri": "https://localhost:8080/"
        },
        "id": "1Szv9G9r2npY",
        "outputId": "10612881-491f-477b-e993-e2c1905b2a50"
      },
      "outputs": [
        {
          "output_type": "stream",
          "name": "stdout",
          "text": [
            "Dataset shape: (45530, 13)\n",
            "   id        Age  gender  height  weight  ap_hi  ap_lo  cholesterol  gluc  \\\n",
            "0   1  51.663014       1     156    85.0    140     90            3     1   \n",
            "1   2  47.873973       1     165    64.0    130     70            3     1   \n",
            "2   4  60.583562       1     156    56.0    100     60            1     1   \n",
            "3   8  48.405479       1     151    67.0    120     80            2     2   \n",
            "4   9  54.339726       1     157    93.0    130     80            3     1   \n",
            "\n",
            "   smoke  alco  active  cardio  \n",
            "0      0     0       1       1  \n",
            "1      0     0       0       1  \n",
            "2      0     0       0       0  \n",
            "3      0     0       0       0  \n",
            "4      0     0       1       0  \n"
          ]
        }
      ],
      "source": [
        "import pandas as pd\n",
        "import numpy as np\n",
        "from sklearn.model_selection import train_test_split\n",
        "from sklearn.linear_model import LogisticRegression\n",
        "from sklearn.metrics import classification_report, roc_auc_score\n",
        "\n",
        "# Load dataset from Excel\n",
        "df = pd.read_excel(\"CMU PROJECT DATASET.xlsx\")\n",
        "\n",
        "# Show basic info\n",
        "print(\"Dataset shape:\", df.shape)\n",
        "print(df.head())\n"
      ]
    },
    {
      "cell_type": "code",
      "source": [
        "# Remove unrealistic heights/weights (e.g., <100cm or >250cm, weight <30kg or >200kg)\n",
        "df = df[(df['height'] >= 100) & (df['height'] <= 250)]\n",
        "df = df[(df['weight'] >= 30) & (df['weight'] <= 200)]\n",
        "\n",
        "# Check cleaned size\n",
        "print(\"Cleaned dataset shape:\", df.shape)\n"
      ],
      "metadata": {
        "colab": {
          "base_uri": "https://localhost:8080/"
        },
        "id": "nYnxdwRx3gAG",
        "outputId": "cece50db-c6dd-422a-fba6-6a30b53ab658"
      },
      "execution_count": null,
      "outputs": [
        {
          "output_type": "stream",
          "name": "stdout",
          "text": [
            "Cleaned dataset shape: (45508, 13)\n"
          ]
        }
      ]
    },
    {
      "cell_type": "code",
      "source": [
        "\n",
        "\n",
        "# BMI calculation\n",
        "df['BMI'] = df['weight'] / (df['height'] / 100) ** 2\n",
        "\n",
        "# Hypertension flag: 1 if systolic >=140 or diastolic >=90\n",
        "df['hypertension'] = ((df['ap_hi'] >= 140) | (df['ap_lo'] >= 90)).astype(int)\n",
        "\n",
        "# Age groups\n",
        "df['age_group'] = pd.cut(df['Age'], bins=[0, 39, 50, 120], labels=['reproductive', 'perimenopause', 'postmenopause'])\n"
      ],
      "metadata": {
        "id": "HY-Sh_Kz3lYk"
      },
      "execution_count": null,
      "outputs": []
    },
    {
      "cell_type": "code",
      "source": [
        "# Usually 1=female, 2=male in medical datasets — confirm with your dataset documentation!\n",
        "df_female = df[df['gender'] == 1]\n",
        "\n",
        "print(\"Female records:\", df_female.shape[0])\n"
      ],
      "metadata": {
        "colab": {
          "base_uri": "https://localhost:8080/"
        },
        "id": "DXFRSEJP313X",
        "outputId": "76571f12-5e71-4ac4-cb11-d13eb311bdbd"
      },
      "execution_count": null,
      "outputs": [
        {
          "output_type": "stream",
          "name": "stdout",
          "text": [
            "Female records: 45508\n"
          ]
        }
      ]
    },
    {
      "cell_type": "code",
      "source": [
        "# Define features for modeling\n",
        "features = ['Age', 'BMI', 'cholesterol', 'gluc', 'smoke', 'alco', 'active', 'ap_hi', 'ap_lo', 'hypertension']\n",
        "X = df_female[features]\n",
        "y = df_female['cardio']\n",
        "\n",
        "# Train/test split\n",
        "X_train, X_test, y_train, y_test = train_test_split(\n",
        "    X, y, test_size=0.2, random_state=42, stratify=y\n",
        ")\n"
      ],
      "metadata": {
        "id": "WOsm2Fvp34rW"
      },
      "execution_count": null,
      "outputs": []
    },
    {
      "cell_type": "code",
      "source": [
        "from sklearn.impute import SimpleImputer\n",
        "\n",
        "imputer = SimpleImputer(strategy='median')\n",
        "\n",
        "# Fit imputer on training data and transform both train and test\n",
        "X_train_imputed = imputer.fit_transform(X_train)\n",
        "X_test_imputed = imputer.transform(X_test)\n",
        "\n",
        "# Now train on imputed data\n",
        "model = LogisticRegression(max_iter=1000)\n",
        "model.fit(X_train_imputed, y_train)\n",
        "\n",
        "# Predictions on test data\n",
        "y_pred = model.predict(X_test_imputed)\n",
        "y_proba = model.predict_proba(X_test_imputed)[:, 1]\n",
        "\n",
        "# Then get intercept and coefficients\n",
        "print(\"Intercept:\", model.intercept_)\n",
        "print(\"Coefficients:\", model.coef_)\n"
      ],
      "metadata": {
        "colab": {
          "base_uri": "https://localhost:8080/"
        },
        "id": "7iGQP8TU3-L9",
        "outputId": "8f8583a8-6460-4eb1-d948-81fa6615234a"
      },
      "execution_count": null,
      "outputs": [
        {
          "output_type": "stream",
          "name": "stdout",
          "text": [
            "Intercept: [-2.35453395]\n",
            "Coefficients: [[ 2.84167402e-03  3.31261184e-02  5.60730191e-01 -7.31582783e-02\n",
            "  -1.59965132e-01 -2.90869457e-01 -2.02570941e-01  1.61033435e-03\n",
            "   2.68204988e-04  1.68575947e+00]]\n"
          ]
        }
      ]
    },
    {
      "cell_type": "code",
      "source": [
        "print(\"Classification Report:\\n\", classification_report(y_test, y_pred))\n",
        "print(\"ROC AUC Score:\", roc_auc_score(y_test, y_proba))\n",
        "\n",
        "# Show model coefficients for interpretability\n",
        "coef_df = pd.DataFrame({\n",
        "    'feature': features,\n",
        "    'coefficient': model.coef_[0]\n",
        "}).sort_values(by='coefficient', ascending=False)\n",
        "\n",
        "print(\"\\nFeature importance (coefficients):\\n\", coef_df)\n"
      ],
      "metadata": {
        "colab": {
          "base_uri": "https://localhost:8080/"
        },
        "id": "BDDDsBpC4Pq1",
        "outputId": "c37af81a-1878-4d63-9320-ad12dea9a266"
      },
      "execution_count": null,
      "outputs": [
        {
          "output_type": "stream",
          "name": "stdout",
          "text": [
            "Classification Report:\n",
            "               precision    recall  f1-score   support\n",
            "\n",
            "           0       0.69      0.81      0.74      4581\n",
            "           1       0.77      0.62      0.69      4521\n",
            "\n",
            "    accuracy                           0.72      9102\n",
            "   macro avg       0.73      0.72      0.72      9102\n",
            "weighted avg       0.73      0.72      0.72      9102\n",
            "\n",
            "ROC AUC Score: 0.7559631371241369\n",
            "\n",
            "Feature importance (coefficients):\n",
            "         feature  coefficient\n",
            "9  hypertension     1.685759\n",
            "2   cholesterol     0.560730\n",
            "1           BMI     0.033126\n",
            "0           Age     0.002842\n",
            "7         ap_hi     0.001610\n",
            "8         ap_lo     0.000268\n",
            "3          gluc    -0.073158\n",
            "4         smoke    -0.159965\n",
            "6        active    -0.202571\n",
            "5          alco    -0.290869\n"
          ]
        }
      ]
    },
    {
      "cell_type": "code",
      "source": [
        "from sklearn.impute import SimpleImputer\n",
        "\n",
        "imputer = SimpleImputer(strategy='median')\n",
        "X_imputed = imputer.fit_transform(X)  # returns numpy array\n",
        "\n",
        "X_train, X_test, y_train, y_test = train_test_split(\n",
        "    X_imputed, y, test_size=0.2, random_state=42, stratify=y\n",
        ")\n"
      ],
      "metadata": {
        "id": "e0HIUTo_4INs"
      },
      "execution_count": null,
      "outputs": []
    },
    {
      "cell_type": "code",
      "source": [
        "def heartreach_triage_score(row):\n",
        "    score = 0\n",
        "    if row['hypertension'] == 1:\n",
        "        score += 3\n",
        "    if row['cholesterol'] >= 2:\n",
        "        score += 2\n",
        "    if row['BMI'] >= 30:\n",
        "        score += 1\n",
        "    if row['age'] >= 50:\n",
        "        score += 1\n",
        "    if row['active'] == 1:\n",
        "        score -= 1  # Active lifestyle lowers risk slightly\n",
        "    return score\n",
        "\n",
        "def triage_advice(score):\n",
        "    if score >= 4:\n",
        "        return \"High risk detected. Please seek urgent medical care immediately.\"\n",
        "    elif score >= 2:\n",
        "        return \"Moderate risk detected. We recommend scheduling a doctor visit soon.\"\n",
        "    else:\n",
        "        return \"Low risk detected. Maintain healthy habits and monitor your health.\"\n",
        "\n",
        "# Example usage with a new patient record dictionary\n",
        "new_patient = {\n",
        "    'age': 52,\n",
        "    'BMI': 32,\n",
        "    'cholesterol': 2,\n",
        "    'hypertension': 1,\n",
        "    'active': 0\n",
        "}\n",
        "\n",
        "score = heartreach_triage_score(new_patient)\n",
        "advice = triage_advice(score)\n",
        "print(f\"Triage score: {score}\")\n",
        "print(f\"Advice: {advice}\")\n"
      ],
      "metadata": {
        "colab": {
          "base_uri": "https://localhost:8080/"
        },
        "id": "gmjmy8Li4vwU",
        "outputId": "bc64dec1-d5f2-4331-efa3-d30d8fd2f654"
      },
      "execution_count": null,
      "outputs": [
        {
          "output_type": "stream",
          "name": "stdout",
          "text": [
            "Triage score: 7\n",
            "Advice: High risk detected. Please seek urgent medical care immediately.\n"
          ]
        }
      ]
    },
    {
      "cell_type": "code",
      "source": [
        "patient_with_symptoms = {\n",
        "    'age': 52,\n",
        "    'BMI': 32,\n",
        "    'cholesterol': 2,\n",
        "    'hypertension': 1,\n",
        "    'active': 0,\n",
        "    'fatigue': 1,\n",
        "    'nausea': 0,\n",
        "    'anxiety': 0,\n",
        "    'dizziness': 1\n",
        "}\n",
        "\n",
        "score = heartreach_triage_score_extended(patient_with_symptoms)\n",
        "advice = triage_advice(score)\n",
        "print(f\"Triage score: {score}\")\n",
        "print(f\"Advice: {advice}\")\n"
      ],
      "metadata": {
        "colab": {
          "base_uri": "https://localhost:8080/"
        },
        "id": "DgEFklXo5ReM",
        "outputId": "9ee3116e-65aa-4653-d3c1-30a4f92ac578"
      },
      "execution_count": null,
      "outputs": [
        {
          "output_type": "stream",
          "name": "stdout",
          "text": [
            "Triage score: 11\n",
            "Advice: High risk detected. Please seek urgent medical care immediately.\n"
          ]
        }
      ]
    },
    {
      "cell_type": "code",
      "source": [
        "!pip install streamlit -q\n"
      ],
      "metadata": {
        "colab": {
          "base_uri": "https://localhost:8080/"
        },
        "id": "iodUg3Db5lMn",
        "outputId": "5424c2f6-720a-438e-a3ed-5fc3960a9df9"
      },
      "execution_count": null,
      "outputs": [
        {
          "output_type": "stream",
          "name": "stdout",
          "text": [
            "\u001b[2K     \u001b[90m━━━━━━━━━━━━━━━━━━━━━━━━━━━━━━━━━━━━━━━━\u001b[0m \u001b[32m44.3/44.3 kB\u001b[0m \u001b[31m1.7 MB/s\u001b[0m eta \u001b[36m0:00:00\u001b[0m\n",
            "\u001b[2K   \u001b[90m━━━━━━━━━━━━━━━━━━━━━━━━━━━━━━━━━━━━━━━━\u001b[0m \u001b[32m10.1/10.1 MB\u001b[0m \u001b[31m62.3 MB/s\u001b[0m eta \u001b[36m0:00:00\u001b[0m\n",
            "\u001b[2K   \u001b[90m━━━━━━━━━━━━━━━━━━━━━━━━━━━━━━━━━━━━━━━━\u001b[0m \u001b[32m6.9/6.9 MB\u001b[0m \u001b[31m107.3 MB/s\u001b[0m eta \u001b[36m0:00:00\u001b[0m\n",
            "\u001b[2K   \u001b[90m━━━━━━━━━━━━━━━━━━━━━━━━━━━━━━━━━━━━━━━━\u001b[0m \u001b[32m79.1/79.1 kB\u001b[0m \u001b[31m5.9 MB/s\u001b[0m eta \u001b[36m0:00:00\u001b[0m\n",
            "\u001b[?25h"
          ]
        }
      ]
    },
    {
      "cell_type": "code",
      "source": [],
      "metadata": {
        "id": "1Wmp4cRQxitz"
      },
      "execution_count": null,
      "outputs": []
    },
    {
      "cell_type": "code",
      "source": [
        "import time\n",
        "from pyngrok import ngrok\n",
        "\n",
        "# Start Streamlit app in the background\n",
        "get_ipython().system_raw('streamlit run app.py &')\n",
        "\n",
        "# Wait a few seconds for the app to start\n",
        "time.sleep(5)\n",
        "\n",
        "# Open ngrok tunnel on port 8501\n",
        "public_url = ngrok.connect(8501)\n",
        "print(f\"Your app is live here: {public_url}\")\n"
      ],
      "metadata": {
        "colab": {
          "base_uri": "https://localhost:8080/"
        },
        "id": "T8DJt90i6xVn",
        "outputId": "741cc639-2740-47aa-ba6f-a14feb4050d8"
      },
      "execution_count": null,
      "outputs": [
        {
          "output_type": "stream",
          "name": "stdout",
          "text": [
            "Your app is live here: NgrokTunnel: \"https://76e6-34-75-252-199.ngrok-free.app\" -> \"http://localhost:8501\"\n"
          ]
        }
      ]
    },
    {
      "cell_type": "code",
      "source": [
        "!ngrok authtoken \"2zKpfubwf9enX2qSFDs5wn22azF_2RFa7zQK2SUxyDndk3jrt\"\n"
      ],
      "metadata": {
        "colab": {
          "base_uri": "https://localhost:8080/"
        },
        "id": "eg792IrX8tnD",
        "outputId": "e2ed1009-14dd-4f4f-cdf7-347d01ba393e"
      },
      "execution_count": null,
      "outputs": [
        {
          "output_type": "stream",
          "name": "stdout",
          "text": [
            "Authtoken saved to configuration file: /root/.config/ngrok/ngrok.yml\n"
          ]
        }
      ]
    },
    {
      "cell_type": "code",
      "source": [
        "%%writefile app.py\n",
        "import streamlit as st\n",
        "\n",
        "def heartreach_triage_score(row):\n",
        "    score = 0\n",
        "    if row['hypertension'] == 1:\n",
        "        score += 3\n",
        "    if row['cholesterol'] >= 2:\n",
        "        score += 2\n",
        "    if row['BMI'] >= 30:\n",
        "        score += 1\n",
        "    if row['age'] >= 50:\n",
        "        score += 1\n",
        "    if row['active'] == 1:\n",
        "        score -= 1\n",
        "    return score\n",
        "\n",
        "def triage_advice(score):\n",
        "    if score >= 4:\n",
        "        return \"High risk detected. Please seek urgent medical care immediately.\"\n",
        "    elif score >= 2:\n",
        "        return \"Moderate risk detected. We recommend scheduling a doctor visit soon.\"\n",
        "    else:\n",
        "        return \"Low risk detected. Maintain healthy habits and monitor your health.\"\n",
        "\n",
        "def calculate_BMI(weight_kg, height_cm):\n",
        "    return weight_kg / ((height_cm / 100) ** 2)\n",
        "\n",
        "def calculate_hypertension(ap_hi, ap_lo):\n",
        "    return 1 if (ap_hi >= 140 or ap_lo >= 90) else 0\n",
        "\n",
        "st.title(\"HeartReach: Cardiovascular Triage for Women\")\n",
        "\n",
        "age = st.number_input(\"Age (years)\", min_value=10, max_value=120, value=40)\n",
        "weight = st.number_input(\"Weight (kg)\", min_value=20.0, max_value=200.0, value=60.0)\n",
        "height = st.number_input(\"Height (cm)\", min_value=100.0, max_value=250.0, value=160.0)\n",
        "cholesterol = st.selectbox(\"Cholesterol level\", options=[1, 2, 3], format_func=lambda x: {1:\"Normal\", 2:\"Above normal\", 3:\"Well above normal\"}[x])\n",
        "ap_hi = st.number_input(\"Systolic blood pressure (ap_hi)\", min_value=80, max_value=250, value=120)\n",
        "ap_lo = st.number_input(\"Diastolic blood pressure (ap_lo)\", min_value=40, max_value=150, value=80)\n",
        "active = st.selectbox(\"Physically active?\", options=[0, 1], format_func=lambda x: {0:\"No\", 1:\"Yes\"}[x])\n",
        "\n",
        "if st.button(\"Get Triage Advice\"):\n",
        "    BMI = calculate_BMI(weight, height)\n",
        "    hypertension = calculate_hypertension(ap_hi, ap_lo)\n",
        "    patient = {\n",
        "        'age': age,\n",
        "        'BMI': BMI,\n",
        "        'cholesterol': cholesterol,\n",
        "        'hypertension': hypertension,\n",
        "        'active': active\n",
        "    }\n",
        "    score = heartreach_triage_score(patient)\n",
        "    advice = triage_advice(score)\n",
        "    st.write(f\"### Triage score: {score}\")\n",
        "    st.write(f\"### Advice: {advice}\")\n"
      ],
      "metadata": {
        "colab": {
          "base_uri": "https://localhost:8080/"
        },
        "id": "fJMqJNdp5vqo",
        "outputId": "08b21566-291d-4d4a-fbbb-6331bc913b83"
      },
      "execution_count": null,
      "outputs": [
        {
          "output_type": "stream",
          "name": "stdout",
          "text": [
            "Writing app.py\n"
          ]
        }
      ]
    },
    {
      "cell_type": "code",
      "source": [
        "print(\"Intercept:\", model.intercept_)\n"
      ],
      "metadata": {
        "colab": {
          "base_uri": "https://localhost:8080/",
          "height": 141
        },
        "id": "VuxMbgfTxo5M",
        "outputId": "614a5082-276f-4b28-e17d-edf2f0511d5b"
      },
      "execution_count": null,
      "outputs": [
        {
          "output_type": "error",
          "ename": "NameError",
          "evalue": "name 'model' is not defined",
          "traceback": [
            "\u001b[0;31m---------------------------------------------------------------------------\u001b[0m",
            "\u001b[0;31mNameError\u001b[0m                                 Traceback (most recent call last)",
            "\u001b[0;32m/tmp/ipython-input-1-3029386976.py\u001b[0m in \u001b[0;36m<cell line: 0>\u001b[0;34m()\u001b[0m\n\u001b[0;32m----> 1\u001b[0;31m \u001b[0mprint\u001b[0m\u001b[0;34m(\u001b[0m\u001b[0;34m\"Intercept:\"\u001b[0m\u001b[0;34m,\u001b[0m \u001b[0mmodel\u001b[0m\u001b[0;34m.\u001b[0m\u001b[0mintercept_\u001b[0m\u001b[0;34m)\u001b[0m\u001b[0;34m\u001b[0m\u001b[0;34m\u001b[0m\u001b[0m\n\u001b[0m",
            "\u001b[0;31mNameError\u001b[0m: name 'model' is not defined"
          ]
        }
      ]
    }
  ]
}